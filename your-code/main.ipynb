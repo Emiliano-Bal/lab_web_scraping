{
  "cells": [
    {
      "cell_type": "markdown",
      "metadata": {
        "id": "0EICDNZ3XqIS"
      },
      "source": [
        "# Web Scraping Lab\n",
        "\n",
        "You will find in this notebook some scrapy exercises to practise your scraping skills.\n",
        "\n",
        "**Tips:**\n",
        "\n",
        "- Check the response status code for each request to ensure you have obtained the intended contennt.\n",
        "- Print the response text in each request to understand the kind of info you are getting and its format.\n",
        "- Check for patterns in the response text to extract the data/info requested in each question.\n",
        "- Visit each url and take a look at its source through Chrome DevTools. You'll need to identify the html tags, special class names etc. used for the html content you are expected to extract."
      ]
    },
    {
      "cell_type": "markdown",
      "metadata": {
        "id": "2wKGSvXAXqIX"
      },
      "source": [
        "- [Requests library](http://docs.python-requests.org/en/master/#the-user-guide) documentation \n",
        "- [Beautiful Soup Doc](https://www.crummy.com/software/BeautifulSoup/bs4/doc/)\n",
        "- [Urllib](https://docs.python.org/3/library/urllib.html#module-urllib)\n",
        "- [re lib](https://docs.python.org/3/library/re.html)\n",
        "- [lxml lib](https://lxml.de/)\n",
        "- [Scrapy](https://scrapy.org/)\n",
        "- [List of HTTP status codes](https://en.wikipedia.org/wiki/List_of_HTTP_status_codes)\n",
        "- [HTML basics](http://www.simplehtmlguide.com/cheatsheet.php)\n",
        "- [CSS basics](https://www.cssbasics.com/#page_start)"
      ]
    },
    {
      "cell_type": "markdown",
      "metadata": {
        "id": "62uIepbqXqIY"
      },
      "source": [
        "#### Below are the libraries and modules you may need. `requests`,  `BeautifulSoup` and `pandas` are imported for you. If you prefer to use additional libraries feel free to uncomment them."
      ]
    },
    {
      "cell_type": "code",
      "execution_count": 10,
      "metadata": {
        "id": "X2dR6kk5XqIZ"
      },
      "outputs": [],
      "source": [
        "import requests\n",
        "from bs4 import BeautifulSoup\n",
        "import pandas as pd\n",
        "# from pprint import pprint\n",
        "# from lxml import html\n",
        "# from lxml.html import fromstring\n",
        "# import urllib.request\n",
        "# from urllib.request import urlopen\n",
        "# import random\n",
        "# import re\n",
        "# import scrapy"
      ]
    },
    {
      "cell_type": "markdown",
      "metadata": {
        "id": "6tZBn-NwXqIb"
      },
      "source": [
        "#### Download, parse (using BeautifulSoup), and print the content from the Trending Developers page from GitHub:"
      ]
    },
    {
      "cell_type": "code",
      "execution_count": null,
      "metadata": {
        "id": "ON39vV32XqIb"
      },
      "outputs": [],
      "source": [
        "# This is the url you will scrape in this exercise\n",
        "url = 'https://github.com/trending/developers'\n",
        "\n",
        "# get the response and cook the soup\n",
        "response = requests.get(url)\n",
        "soup = BeautifulSoup(response.content, \"html.parser\")\n",
        "soup"
      ]
    },
    {
      "cell_type": "code",
      "execution_count": null,
      "metadata": {
        "id": "-FxLm2L7XqIc"
      },
      "outputs": [],
      "source": [
        "people_tags = soup.find_all('h1', {\"class\": \"h3 lh-condensed\"})\n",
        "people_tags"
      ]
    },
    {
      "cell_type": "code",
      "execution_count": null,
      "metadata": {
        "id": "tNh82aCQdGIt"
      },
      "outputs": [],
      "source": [
        "tag = ['h1','p']\n",
        "people = [tag.a.text.replace('\\n',' ').strip() for tag in people_tags]\n",
        "people\n"
      ]
    },
    {
      "cell_type": "code",
      "source": [
        "people_nicknames = soup.find_all('p', {\"class\": \"f4\"})\n"
      ],
      "metadata": {
        "id": "Vd_gPfrilv-6"
      },
      "execution_count": 54,
      "outputs": []
    },
    {
      "cell_type": "code",
      "source": [
        "people_nick = [tag.text.replace('\\n',' ').strip() for tag in people_nicknames][1:]\n",
        "people_nick\n",
        "\n",
        "#tag=[\"h1\",\"p\"]\n",
        "#text = [element.text.replace('\\n',' ').strip() for element in soup.find_all(tag)]\n",
        "#listofnames=[text[i]+\" (@\"+text[i+1]+\")\" for i in range(2,30)]\n",
        "#listofnames\n"
      ],
      "metadata": {
        "id": "gR7f2QbClwiS",
        "colab": {
          "base_uri": "https://localhost:8080/"
        },
        "outputId": "c6cff0bb-b6f1-4da8-874c-a6c0637a012d"
      },
      "execution_count": 55,
      "outputs": [
        {
          "output_type": "execute_result",
          "data": {
            "text/plain": [
              "[]"
            ]
          },
          "metadata": {},
          "execution_count": 55
        }
      ]
    },
    {
      "cell_type": "code",
      "source": [
        "trend_devops = [people[i] + '(' + people_nick[i] + ')' for i in range(len(people))]"
      ],
      "metadata": {
        "id": "mj_BalMBlwnw"
      },
      "execution_count": null,
      "outputs": []
    },
    {
      "cell_type": "code",
      "source": [],
      "metadata": {
        "id": "vRdSMOSFlwsg"
      },
      "execution_count": null,
      "outputs": []
    },
    {
      "cell_type": "markdown",
      "metadata": {
        "id": "vbCPKNbDXqIc"
      },
      "source": [
        "#### Display the names of the trending developers retrieved in the previous step.\n",
        "\n",
        "Your output should be a Python list of developer names. Each name should not contain any html tag.\n",
        "\n",
        "**Instructions:**\n",
        "\n",
        "1. Find out the html tag and class names used for the developer names. You can achieve this using Chrome DevTools.\n",
        "\n",
        "1. Use BeautifulSoup to extract all the html elements that contain the developer names.\n",
        "\n",
        "1. Use string manipulation techniques to replace whitespaces and linebreaks (i.e. `\\n`) in the *text* of each html element. Use a list to store the clean names.\n",
        "\n",
        "1. Print the list of names.\n",
        "\n",
        "Your output should look like below:\n",
        "\n",
        "```\n",
        "['trimstray (@trimstray)',\n",
        " 'joewalnes (JoeWalnes)',\n",
        " 'charlax (Charles-AxelDein)',\n",
        " 'ForrestKnight (ForrestKnight)',\n",
        " 'revery-ui (revery-ui)',\n",
        " 'alibaba (Alibaba)',\n",
        " 'Microsoft (Microsoft)',\n",
        " 'github (GitHub)',\n",
        " 'facebook (Facebook)',\n",
        " 'boazsegev (Bo)',\n",
        " 'google (Google)',\n",
        " 'cloudfetch',\n",
        " 'sindresorhus (SindreSorhus)',\n",
        " 'tensorflow',\n",
        " 'apache (TheApacheSoftwareFoundation)',\n",
        " 'DevonCrawford (DevonCrawford)',\n",
        " 'ARMmbed (ArmMbed)',\n",
        " 'vuejs (vuejs)',\n",
        " 'fastai (fast.ai)',\n",
        " 'QiShaoXuan (Qi)',\n",
        " 'joelparkerhenderson (JoelParkerHenderson)',\n",
        " 'torvalds (LinusTorvalds)',\n",
        " 'CyC2018',\n",
        " 'komeiji-satori (神楽坂覚々)',\n",
        " 'script-8']\n",
        " ```"
      ]
    },
    {
      "cell_type": "code",
      "execution_count": null,
      "metadata": {
        "id": "q1aPtw_-XqIe"
      },
      "outputs": [],
      "source": [
        "#your code"
      ]
    },
    {
      "cell_type": "markdown",
      "metadata": {
        "id": "EzdyZONXXqIf"
      },
      "source": [
        "#### Display the trending Python repositories in GitHub\n",
        "\n",
        "The steps to solve this problem is similar to the previous one except that you need to find out the repository names instead of developer names."
      ]
    },
    {
      "cell_type": "code",
      "source": [],
      "metadata": {
        "id": "-s0fJRDRoZY9"
      },
      "execution_count": null,
      "outputs": []
    },
    {
      "cell_type": "code",
      "execution_count": 20,
      "metadata": {
        "id": "vK55AkvMXqIf"
      },
      "outputs": [],
      "source": [
        "# This is the url you will scrape in this exercise\n",
        "url = 'https://github.com/trending/python?since=daily'"
      ]
    },
    {
      "cell_type": "code",
      "execution_count": 23,
      "metadata": {
        "id": "rjM8QPuRXqIf"
      },
      "outputs": [],
      "source": [
        "response = requests.get(url)\n",
        "soup = BeautifulSoup(response.content, \"html.parser\")\n"
      ]
    },
    {
      "cell_type": "code",
      "source": [
        "# find all repositories under h1 tag and additional class\n",
        "repos_tags = soup.find_all('h1', {\"class\": \"h3 lh-condensed\"})\n",
        "\n",
        "# get the text of the child of each element in list\n",
        "repos_users = [tag.span.text.strip()[:-2] for tag in repos_tags]\n",
        "repos_names = [tag.a.text.replace('\\n', '').split('/')[-1].strip() for tag in repos_tags]\n",
        "\n",
        "repos = list(zip(repos_users, repos_names))\n",
        "repos"
      ],
      "metadata": {
        "colab": {
          "base_uri": "https://localhost:8080/"
        },
        "id": "R7KQDDkWoYGq",
        "outputId": "12bbdb62-b585-42df-b1e5-9578c3105256"
      },
      "execution_count": 22,
      "outputs": [
        {
          "output_type": "execute_result",
          "data": {
            "text/plain": [
              "[('Eilonh', 's3crets_scanner'),\n",
              " ('geohot', 'tinygrad'),\n",
              " ('NVIDIA', 'DeepLearningExamples'),\n",
              " ('open-mmlab', 'mmdeploy'),\n",
              " ('hiroi-sora', 'Umi-OCR'),\n",
              " ('WZMIAOMIAO', 'deep-learning-for-image-processing'),\n",
              " ('facebookresearch', 'esm'),\n",
              " ('PaddlePaddle', 'PaddleSeg'),\n",
              " ('Sanster', 'lama-cleaner'),\n",
              " ('facebookresearch', 'detectron2'),\n",
              " ('MatrixTM', 'MHDDoS'),\n",
              " ('PaddlePaddle', 'PaddleHub'),\n",
              " ('open-mmlab', 'mmdetection'),\n",
              " ('open-mmlab', 'mmclassification'),\n",
              " ('huggingface', 'accelerate'),\n",
              " ('PaddlePaddle', 'PaddleClas'),\n",
              " ('tianqiraf', 'DouZero_For_HappyDouDiZhu'),\n",
              " ('pyg-team', 'pytorch_geometric'),\n",
              " ('commaai', 'openpilot'),\n",
              " ('magicleap', 'SuperGluePretrainedNetwork'),\n",
              " ('open-mmlab', 'mmsegmentation'),\n",
              " ('AUTOMATIC1111', 'stable-diffusion-webui'),\n",
              " ('UKPLab', 'sentence-transformers'),\n",
              " ('pytorch', 'examples'),\n",
              " ('QIN2DIM', 'hcaptcha-challenger')]"
            ]
          },
          "metadata": {},
          "execution_count": 22
        }
      ]
    },
    {
      "cell_type": "code",
      "source": [],
      "metadata": {
        "id": "PAGVY6EgoYZD"
      },
      "execution_count": null,
      "outputs": []
    },
    {
      "cell_type": "markdown",
      "metadata": {
        "id": "pI4g4SLhXqIg"
      },
      "source": [
        "#### Display all the image links from Walt Disney wikipedia page"
      ]
    },
    {
      "cell_type": "code",
      "execution_count": null,
      "metadata": {
        "id": "fcKdDOHrXqIh"
      },
      "outputs": [],
      "source": [
        "# This is the url you will scrape in this exercise\n",
        "url = 'https://en.wikipedia.org/wiki/Walt_Disney'\n",
        "response = requests.get(url)\n",
        "soup = BeautifulSoup(response.content, \"html.parser\")\n",
        "# find all repositories under img tag\n",
        "find_main_page = soup.find_all('img')\n",
        "\n",
        "# get the link\n",
        "images = [tag.get('src') for tag in find_main_page]\n",
        "images"
      ]
    },
    {
      "cell_type": "markdown",
      "metadata": {
        "id": "wiX8IsEgXqIh"
      },
      "source": [
        "#### Retrieve an arbitary Wikipedia page of \"Python\" and create a list of links on that page"
      ]
    },
    {
      "cell_type": "code",
      "execution_count": 3,
      "metadata": {
        "id": "7jM2a-FPXqIh"
      },
      "outputs": [],
      "source": [
        "# This is the url you will scrape in this exercise\n",
        "url ='https://en.wikipedia.org/wiki/Python' "
      ]
    },
    {
      "cell_type": "code",
      "execution_count": 4,
      "metadata": {
        "id": "PkP_77wNXqIi"
      },
      "outputs": [],
      "source": [
        "#your code"
      ]
    },
    {
      "cell_type": "markdown",
      "metadata": {
        "id": "VfTatynrXqIi"
      },
      "source": [
        "#### Number of Titles that have changed in the United States Code since its last release point "
      ]
    },
    {
      "cell_type": "code",
      "execution_count": 35,
      "metadata": {
        "id": "pIgj0Cm1XqIi"
      },
      "outputs": [],
      "source": [
        "# This is the url you will scrape in this exercise\n",
        "url = 'http://uscode.house.gov/download/download.shtml'\n",
        "response = requests.get(url)\n",
        "soup = BeautifulSoup(response.content, \"html.parser\")"
      ]
    },
    {
      "cell_type": "code",
      "execution_count": 36,
      "metadata": {
        "id": "-dMmzFGNXqIi",
        "colab": {
          "base_uri": "https://localhost:8080/"
        },
        "outputId": "075b0887-a2f6-470f-aec8-b10f0ded5c8d"
      },
      "outputs": [
        {
          "output_type": "execute_result",
          "data": {
            "text/plain": [
              "['Title 17 - Copyrights',\n",
              " 'Title 22 - Foreign Relations and Intercourse',\n",
              " \"Title 38 - Veterans' Benefits\",\n",
              " 'Title 40 - Public Buildings, Property, and Works',\n",
              " 'Title 41 - Public Contracts',\n",
              " 'Title 42 - The Public Health and Welfare',\n",
              " 'Title 44 - Public Printing and Documents',\n",
              " 'Title 49 - Transportation',\n",
              " 'Title 54 - National Park Service and Related Programs']"
            ]
          },
          "metadata": {},
          "execution_count": 36
        }
      ],
      "source": [
        "main_page = soup.find_all('div', {'class':'usctitlechanged'})\n",
        "\n",
        "titles = [tag.text.replace('٭', '').strip() for tag in main_page if \"Title\" in tag.text]\n",
        "titles"
      ]
    },
    {
      "cell_type": "markdown",
      "metadata": {
        "id": "va8LKd5vXqIj"
      },
      "source": [
        "#### A Python list with the top ten FBI's Most Wanted names "
      ]
    },
    {
      "cell_type": "code",
      "execution_count": 37,
      "metadata": {
        "id": "2PHBtv0vXqIj"
      },
      "outputs": [],
      "source": [
        "# This is the url you will scrape in this exercise\n",
        "url = 'https://www.fbi.gov/wanted/topten'\n",
        "response = requests.get(url)\n",
        "soup = BeautifulSoup(response.content, \"html.parser\")\n"
      ]
    },
    {
      "cell_type": "code",
      "execution_count": 38,
      "metadata": {
        "id": "tH2d0ZMKXqIj",
        "colab": {
          "base_uri": "https://localhost:8080/"
        },
        "outputId": "2cc4decc-141f-4fa7-c09f-8e95d56e9d5b"
      },
      "outputs": [
        {
          "output_type": "execute_result",
          "data": {
            "text/plain": [
              "['ALEXIS FLORES',\n",
              " 'JOSE RODOLFO VILLARREAL-HERNANDEZ',\n",
              " 'YULAN ADONAY ARCHAGA CARIAS',\n",
              " 'BHADRESHKUMAR CHETANBHAI PATEL',\n",
              " 'OMAR ALEXANDER CARDENAS',\n",
              " 'ALEJANDRO ROSALES CASTILLO',\n",
              " 'MICHAEL JAMES PRATT',\n",
              " 'RUJA IGNATOVA',\n",
              " 'ARNOLDO JIMENEZ',\n",
              " 'RAFAEL CARO-QUINTERO']"
            ]
          },
          "metadata": {},
          "execution_count": 38
        }
      ],
      "source": [
        "wanted_names = soup.find_all('h3', {'class': 'title'})\n",
        "most_wanted = [tag.a.text.replace('\\n',' ').strip() for tag in wanted_names]\n",
        "most_wanted"
      ]
    },
    {
      "cell_type": "markdown",
      "metadata": {
        "id": "46KJ34_8XqIj"
      },
      "source": [
        "####  20 latest earthquakes info (date, time, latitude, longitude and region name) by the EMSC as a pandas dataframe"
      ]
    },
    {
      "cell_type": "code",
      "execution_count": 39,
      "metadata": {
        "id": "rahBpfkhXqIj"
      },
      "outputs": [],
      "source": [
        "# This is the url you will scrape in this exercise\n",
        "url = 'https://www.emsc-csem.org/Earthquake/'\n",
        "response = requests.get(url)\n",
        "soup = BeautifulSoup(response.content, \"html.parser\")"
      ]
    },
    {
      "cell_type": "code",
      "execution_count": 56,
      "metadata": {
        "id": "Im5UuJNPXqIj"
      },
      "outputs": [],
      "source": [
        "earthquakes1  = soup.find_all('table')[3]\n"
      ]
    },
    {
      "cell_type": "code",
      "source": [
        "df4 = pd.DataFrame(pd.read_html(str(earthquakes1))[0])\n",
        "df1 = df4.drop(labels=[50,51,52])\n",
        "del df1['CitizenResponse']\n",
        "df2 = df1.drop(df1.index[21:])\n"
      ],
      "metadata": {
        "id": "8_zeKNZRr3SN"
      },
      "execution_count": 116,
      "outputs": []
    },
    {
      "cell_type": "code",
      "source": [
        "df2"
      ],
      "metadata": {
        "id": "PlJUZPsCr3iG"
      },
      "execution_count": null,
      "outputs": []
    },
    {
      "cell_type": "code",
      "source": [],
      "metadata": {
        "id": "LUYkLKOcr3ms"
      },
      "execution_count": 9,
      "outputs": []
    },
    {
      "cell_type": "code",
      "source": [],
      "metadata": {
        "id": "N1tp_pm2r3vZ"
      },
      "execution_count": 9,
      "outputs": []
    },
    {
      "cell_type": "markdown",
      "metadata": {
        "id": "CZjKfbK_XqIk"
      },
      "source": [
        "#### Display the date, days, title, city, country of next 25 hackathon events as a Pandas dataframe table"
      ]
    },
    {
      "cell_type": "code",
      "execution_count": 124,
      "metadata": {
        "id": "3yvBnVerXqIk"
      },
      "outputs": [],
      "source": [
        "# This is the url you will scrape in this exercise\n",
        "url ='https://hackevents.co/hackathons'\n",
        "response = requests.get(url)\n",
        "soup = BeautifulSoup(response.content, \"html.parser\")"
      ]
    },
    {
      "cell_type": "code",
      "execution_count": null,
      "metadata": {
        "id": "8U_615hWXqIk"
      },
      "outputs": [],
      "source": [
        "#no me deja abrir el link"
      ]
    },
    {
      "cell_type": "markdown",
      "metadata": {
        "id": "9-Ye29bnXqIk"
      },
      "source": [
        "#### Count number of tweets by a given Twitter account."
      ]
    },
    {
      "cell_type": "markdown",
      "metadata": {
        "id": "8B22iPxuXqIk"
      },
      "source": [
        "You will need to include a ***try/except block*** for account names not found. \n",
        "<br>***Hint:*** the program should count the number of tweets for any provided account"
      ]
    },
    {
      "cell_type": "code",
      "execution_count": 126,
      "metadata": {
        "id": "n2a4hsQ9XqIk"
      },
      "outputs": [],
      "source": [
        "# This is the url you will scrape in this exercise \n",
        "# You will need to add the account credentials to this url\n",
        "url = 'https://twitter.com/'\n",
        "response = requests.get(url)\n",
        "soup = BeautifulSoup(response.content, \"html.parser\")\n"
      ]
    },
    {
      "cell_type": "code",
      "execution_count": null,
      "metadata": {
        "id": "y13s2VVGXqIl"
      },
      "outputs": [],
      "source": [
        "soup"
      ]
    },
    {
      "cell_type": "markdown",
      "metadata": {
        "id": "qjOuinybXqIl"
      },
      "source": [
        "#### Number of followers of a given twitter account"
      ]
    },
    {
      "cell_type": "markdown",
      "metadata": {
        "id": "ZuYoymPBXqIl"
      },
      "source": [
        "You will need to include a ***try/except block*** in case account/s name not found. \n",
        "<br>***Hint:*** the program should count the followers for any provided account"
      ]
    },
    {
      "cell_type": "code",
      "execution_count": null,
      "metadata": {
        "id": "PPnQtV1QXqIl"
      },
      "outputs": [],
      "source": [
        "# This is the url you will scrape in this exercise \n",
        "# You will need to add the account credentials to this url\n",
        "url = 'https://twitter.com/'"
      ]
    },
    {
      "cell_type": "code",
      "execution_count": null,
      "metadata": {
        "id": "QwhH70yiXqIl"
      },
      "outputs": [],
      "source": [
        "#your code"
      ]
    },
    {
      "cell_type": "markdown",
      "metadata": {
        "id": "oyb7lssmXqIl"
      },
      "source": [
        "#### List all language names and number of related articles in the order they appear in wikipedia.org"
      ]
    },
    {
      "cell_type": "code",
      "execution_count": 128,
      "metadata": {
        "id": "tYjcBeT0XqIl"
      },
      "outputs": [],
      "source": [
        "# This is the url you will scrape in this exercise\n",
        "url = 'https://www.wikipedia.org/'\n",
        "response = requests.get(url)\n",
        "soup = BeautifulSoup(response.content, \"html.parser\")"
      ]
    },
    {
      "cell_type": "code",
      "execution_count": 137,
      "metadata": {
        "id": "GTtu-U7UXqIm",
        "colab": {
          "base_uri": "https://localhost:8080/"
        },
        "outputId": "99b48f4d-7417-478f-cab1-2e8ca452b0eb"
      },
      "outputs": [
        {
          "output_type": "execute_result",
          "data": {
            "text/plain": [
              "[('English', '6.458.000+ articles'),\n",
              " ('日本語', '1.314.000+ 記事'),\n",
              " ('Español', '1.755.000+ artículos'),\n",
              " ('Русский', '1.798.000+ статей'),\n",
              " ('Français', '2.400.000+ articles'),\n",
              " ('Deutsch', '2.667.000+ Artikel'),\n",
              " ('Italiano', '1.742.000+ voci'),\n",
              " ('中文', '1.256.000+ 条目 / 條目'),\n",
              " ('Português', '1.085.000+ artigos'),\n",
              " ('العربية', '1.159.000+ مقالة')]"
            ]
          },
          "metadata": {},
          "execution_count": 137
        }
      ],
      "source": [
        "languages_tags = soup.find_all('div', {'class': 'central-featured-lang'})\n",
        "\n",
        "languages = [tag.strong.text for tag in languages_tags]\n",
        "articles = [tag.small.text.replace('\\xa0', '.') for tag in languages_tags]\n",
        "total = list(zip(languages, articles))\n",
        "total\n"
      ]
    },
    {
      "cell_type": "markdown",
      "metadata": {
        "id": "rBqrjZQFXqIm"
      },
      "source": [
        "#### A list with the different kind of datasets available in data.gov.uk "
      ]
    },
    {
      "cell_type": "code",
      "execution_count": 138,
      "metadata": {
        "id": "wc3p3s9XXqIm"
      },
      "outputs": [],
      "source": [
        "# This is the url you will scrape in this exercise\n",
        "url = 'https://data.gov.uk/'\n",
        "response = requests.get(url)\n",
        "soup = BeautifulSoup(response.content, \"html.parser\")"
      ]
    },
    {
      "cell_type": "code",
      "execution_count": 145,
      "metadata": {
        "id": "zn6KcYfgXqIm",
        "colab": {
          "base_uri": "https://localhost:8080/"
        },
        "outputId": "31abffab-09c8-4295-cd1d-69416d29b12e"
      },
      "outputs": [
        {
          "output_type": "execute_result",
          "data": {
            "text/plain": [
              "['Business and economy',\n",
              " 'Crime and justice',\n",
              " 'Defence',\n",
              " 'Education',\n",
              " 'Environment',\n",
              " 'Government',\n",
              " 'Government spending',\n",
              " 'Health',\n",
              " 'Mapping',\n",
              " 'Society',\n",
              " 'Towns and cities',\n",
              " 'Transport',\n",
              " 'Digital service performance',\n",
              " 'Government reference data']"
            ]
          },
          "metadata": {},
          "execution_count": 145
        }
      ],
      "source": [
        "data_sets = soup.find_all('h3')\n",
        "clean_data_sets = [tag.a.text for tag in data_sets]\n",
        "clean_data_sets"
      ]
    },
    {
      "cell_type": "markdown",
      "metadata": {
        "id": "jSKhJVTwXqIm"
      },
      "source": [
        "#### Top 10 languages by number of native speakers stored in a Pandas Dataframe"
      ]
    },
    {
      "cell_type": "code",
      "execution_count": 146,
      "metadata": {
        "id": "Qndxj8rrXqIm"
      },
      "outputs": [],
      "source": [
        "# This is the url you will scrape in this exercise\n",
        "url = 'https://en.wikipedia.org/wiki/List_of_languages_by_number_of_native_speakers'\n",
        "response = requests.get(url)\n",
        "soup = BeautifulSoup(response.content, \"html.parser\")"
      ]
    },
    {
      "cell_type": "code",
      "execution_count": 151,
      "metadata": {
        "id": "FdjwlzoEXqIm",
        "colab": {
          "base_uri": "https://localhost:8080/",
          "height": 394
        },
        "outputId": "56bf8845-2b19-4346-c2fa-45091a717887"
      },
      "outputs": [
        {
          "output_type": "execute_result",
          "data": {
            "text/plain": [
              "                                             Language  \\\n",
              "0   Mandarin Chinese(incl. Standard Chinese, but e...   \n",
              "1                                             Spanish   \n",
              "2                                             English   \n",
              "3                                   Hindi(excl. Urdu)   \n",
              "4                                             Bengali   \n",
              "5                                          Portuguese   \n",
              "6                                             Russian   \n",
              "7                                            Japanese   \n",
              "8                        Yue Chinese(incl. Cantonese)   \n",
              "9                                          Vietnamese   \n",
              "10                                            Marathi   \n",
              "\n",
              "    Native speakers(millions) Language family        Branch  \n",
              "0                       920.0    Sino-Tibetan       Sinitic  \n",
              "1                       475.0   Indo-European       Romance  \n",
              "2                       373.0   Indo-European      Germanic  \n",
              "3                       344.0   Indo-European    Indo-Aryan  \n",
              "4                       234.0   Indo-European    Indo-Aryan  \n",
              "5                       232.0   Indo-European       Romance  \n",
              "6                       154.0   Indo-European  Balto-Slavic  \n",
              "7                       125.0         Japonic      Japanese  \n",
              "8                        85.2    Sino-Tibetan       Sinitic  \n",
              "9                        84.6   Austroasiatic        Vietic  \n",
              "10                       83.1   Indo-European    Indo-Aryan  "
            ],
            "text/html": [
              "\n",
              "  <div id=\"df-8a95df2d-fe22-4727-a0d7-dcaa0b2bb809\">\n",
              "    <div class=\"colab-df-container\">\n",
              "      <div>\n",
              "<style scoped>\n",
              "    .dataframe tbody tr th:only-of-type {\n",
              "        vertical-align: middle;\n",
              "    }\n",
              "\n",
              "    .dataframe tbody tr th {\n",
              "        vertical-align: top;\n",
              "    }\n",
              "\n",
              "    .dataframe thead th {\n",
              "        text-align: right;\n",
              "    }\n",
              "</style>\n",
              "<table border=\"1\" class=\"dataframe\">\n",
              "  <thead>\n",
              "    <tr style=\"text-align: right;\">\n",
              "      <th></th>\n",
              "      <th>Language</th>\n",
              "      <th>Native speakers(millions)</th>\n",
              "      <th>Language family</th>\n",
              "      <th>Branch</th>\n",
              "    </tr>\n",
              "  </thead>\n",
              "  <tbody>\n",
              "    <tr>\n",
              "      <th>0</th>\n",
              "      <td>Mandarin Chinese(incl. Standard Chinese, but e...</td>\n",
              "      <td>920.0</td>\n",
              "      <td>Sino-Tibetan</td>\n",
              "      <td>Sinitic</td>\n",
              "    </tr>\n",
              "    <tr>\n",
              "      <th>1</th>\n",
              "      <td>Spanish</td>\n",
              "      <td>475.0</td>\n",
              "      <td>Indo-European</td>\n",
              "      <td>Romance</td>\n",
              "    </tr>\n",
              "    <tr>\n",
              "      <th>2</th>\n",
              "      <td>English</td>\n",
              "      <td>373.0</td>\n",
              "      <td>Indo-European</td>\n",
              "      <td>Germanic</td>\n",
              "    </tr>\n",
              "    <tr>\n",
              "      <th>3</th>\n",
              "      <td>Hindi(excl. Urdu)</td>\n",
              "      <td>344.0</td>\n",
              "      <td>Indo-European</td>\n",
              "      <td>Indo-Aryan</td>\n",
              "    </tr>\n",
              "    <tr>\n",
              "      <th>4</th>\n",
              "      <td>Bengali</td>\n",
              "      <td>234.0</td>\n",
              "      <td>Indo-European</td>\n",
              "      <td>Indo-Aryan</td>\n",
              "    </tr>\n",
              "    <tr>\n",
              "      <th>5</th>\n",
              "      <td>Portuguese</td>\n",
              "      <td>232.0</td>\n",
              "      <td>Indo-European</td>\n",
              "      <td>Romance</td>\n",
              "    </tr>\n",
              "    <tr>\n",
              "      <th>6</th>\n",
              "      <td>Russian</td>\n",
              "      <td>154.0</td>\n",
              "      <td>Indo-European</td>\n",
              "      <td>Balto-Slavic</td>\n",
              "    </tr>\n",
              "    <tr>\n",
              "      <th>7</th>\n",
              "      <td>Japanese</td>\n",
              "      <td>125.0</td>\n",
              "      <td>Japonic</td>\n",
              "      <td>Japanese</td>\n",
              "    </tr>\n",
              "    <tr>\n",
              "      <th>8</th>\n",
              "      <td>Yue Chinese(incl. Cantonese)</td>\n",
              "      <td>85.2</td>\n",
              "      <td>Sino-Tibetan</td>\n",
              "      <td>Sinitic</td>\n",
              "    </tr>\n",
              "    <tr>\n",
              "      <th>9</th>\n",
              "      <td>Vietnamese</td>\n",
              "      <td>84.6</td>\n",
              "      <td>Austroasiatic</td>\n",
              "      <td>Vietic</td>\n",
              "    </tr>\n",
              "    <tr>\n",
              "      <th>10</th>\n",
              "      <td>Marathi</td>\n",
              "      <td>83.1</td>\n",
              "      <td>Indo-European</td>\n",
              "      <td>Indo-Aryan</td>\n",
              "    </tr>\n",
              "  </tbody>\n",
              "</table>\n",
              "</div>\n",
              "      <button class=\"colab-df-convert\" onclick=\"convertToInteractive('df-8a95df2d-fe22-4727-a0d7-dcaa0b2bb809')\"\n",
              "              title=\"Convert this dataframe to an interactive table.\"\n",
              "              style=\"display:none;\">\n",
              "        \n",
              "  <svg xmlns=\"http://www.w3.org/2000/svg\" height=\"24px\"viewBox=\"0 0 24 24\"\n",
              "       width=\"24px\">\n",
              "    <path d=\"M0 0h24v24H0V0z\" fill=\"none\"/>\n",
              "    <path d=\"M18.56 5.44l.94 2.06.94-2.06 2.06-.94-2.06-.94-.94-2.06-.94 2.06-2.06.94zm-11 1L8.5 8.5l.94-2.06 2.06-.94-2.06-.94L8.5 2.5l-.94 2.06-2.06.94zm10 10l.94 2.06.94-2.06 2.06-.94-2.06-.94-.94-2.06-.94 2.06-2.06.94z\"/><path d=\"M17.41 7.96l-1.37-1.37c-.4-.4-.92-.59-1.43-.59-.52 0-1.04.2-1.43.59L10.3 9.45l-7.72 7.72c-.78.78-.78 2.05 0 2.83L4 21.41c.39.39.9.59 1.41.59.51 0 1.02-.2 1.41-.59l7.78-7.78 2.81-2.81c.8-.78.8-2.07 0-2.86zM5.41 20L4 18.59l7.72-7.72 1.47 1.35L5.41 20z\"/>\n",
              "  </svg>\n",
              "      </button>\n",
              "      \n",
              "  <style>\n",
              "    .colab-df-container {\n",
              "      display:flex;\n",
              "      flex-wrap:wrap;\n",
              "      gap: 12px;\n",
              "    }\n",
              "\n",
              "    .colab-df-convert {\n",
              "      background-color: #E8F0FE;\n",
              "      border: none;\n",
              "      border-radius: 50%;\n",
              "      cursor: pointer;\n",
              "      display: none;\n",
              "      fill: #1967D2;\n",
              "      height: 32px;\n",
              "      padding: 0 0 0 0;\n",
              "      width: 32px;\n",
              "    }\n",
              "\n",
              "    .colab-df-convert:hover {\n",
              "      background-color: #E2EBFA;\n",
              "      box-shadow: 0px 1px 2px rgba(60, 64, 67, 0.3), 0px 1px 3px 1px rgba(60, 64, 67, 0.15);\n",
              "      fill: #174EA6;\n",
              "    }\n",
              "\n",
              "    [theme=dark] .colab-df-convert {\n",
              "      background-color: #3B4455;\n",
              "      fill: #D2E3FC;\n",
              "    }\n",
              "\n",
              "    [theme=dark] .colab-df-convert:hover {\n",
              "      background-color: #434B5C;\n",
              "      box-shadow: 0px 1px 3px 1px rgba(0, 0, 0, 0.15);\n",
              "      filter: drop-shadow(0px 1px 2px rgba(0, 0, 0, 0.3));\n",
              "      fill: #FFFFFF;\n",
              "    }\n",
              "  </style>\n",
              "\n",
              "      <script>\n",
              "        const buttonEl =\n",
              "          document.querySelector('#df-8a95df2d-fe22-4727-a0d7-dcaa0b2bb809 button.colab-df-convert');\n",
              "        buttonEl.style.display =\n",
              "          google.colab.kernel.accessAllowed ? 'block' : 'none';\n",
              "\n",
              "        async function convertToInteractive(key) {\n",
              "          const element = document.querySelector('#df-8a95df2d-fe22-4727-a0d7-dcaa0b2bb809');\n",
              "          const dataTable =\n",
              "            await google.colab.kernel.invokeFunction('convertToInteractive',\n",
              "                                                     [key], {});\n",
              "          if (!dataTable) return;\n",
              "\n",
              "          const docLinkHtml = 'Like what you see? Visit the ' +\n",
              "            '<a target=\"_blank\" href=https://colab.research.google.com/notebooks/data_table.ipynb>data table notebook</a>'\n",
              "            + ' to learn more about interactive tables.';\n",
              "          element.innerHTML = '';\n",
              "          dataTable['output_type'] = 'display_data';\n",
              "          await google.colab.output.renderOutput(dataTable, element);\n",
              "          const docLink = document.createElement('div');\n",
              "          docLink.innerHTML = docLinkHtml;\n",
              "          element.appendChild(docLink);\n",
              "        }\n",
              "      </script>\n",
              "    </div>\n",
              "  </div>\n",
              "  "
            ]
          },
          "metadata": {},
          "execution_count": 151
        }
      ],
      "source": [
        "tabla1 = soup.find_all('table', {'class':'wikitable'})[0]\n",
        "df1 = pd.DataFrame(pd.read_html(str(tabla1))[0])\n",
        "df2 = df1.drop(df1.index[11:])\n",
        "df2"
      ]
    },
    {
      "cell_type": "markdown",
      "metadata": {
        "id": "VOmX6CcLXqIn"
      },
      "source": [
        "### BONUS QUESTIONS"
      ]
    },
    {
      "cell_type": "markdown",
      "metadata": {
        "id": "G_8hzNaDXqIn"
      },
      "source": [
        "#### Scrape a certain number of tweets of a given Twitter account."
      ]
    },
    {
      "cell_type": "code",
      "execution_count": null,
      "metadata": {
        "id": "UToiMX5gXqIn"
      },
      "outputs": [],
      "source": [
        "# This is the url you will scrape in this exercise \n",
        "# You will need to add the account credentials to this url\n",
        "url = 'https://twitter.com/'"
      ]
    },
    {
      "cell_type": "code",
      "execution_count": null,
      "metadata": {
        "id": "5su2O0TsXqIn"
      },
      "outputs": [],
      "source": [
        "# your code"
      ]
    },
    {
      "cell_type": "markdown",
      "metadata": {
        "id": "KGSXlmy_XqIn"
      },
      "source": [
        "#### IMDB's Top 250 data (movie name, Initial release, director name and stars) as a pandas dataframe"
      ]
    },
    {
      "cell_type": "code",
      "execution_count": 152,
      "metadata": {
        "id": "Ml3E8NLCXqIn"
      },
      "outputs": [],
      "source": [
        "# This is the url you will scrape in this exercise \n",
        "url = 'https://www.imdb.com/chart/top'\n",
        "response = requests.get(url)\n",
        "soup = BeautifulSoup(response.content, \"html.parser\")"
      ]
    },
    {
      "cell_type": "code",
      "execution_count": 174,
      "metadata": {
        "id": "6bhF4i1MXqIn",
        "colab": {
          "base_uri": "https://localhost:8080/",
          "height": 423
        },
        "outputId": "8c225caf-7b3a-4287-f4f0-1556adde3c2d"
      },
      "outputs": [
        {
          "output_type": "execute_result",
          "data": {
            "text/plain": [
              "                        Title  Release              Director            Star\n",
              "0    The Shawshank Redemption     1994        Frank Darabont     Tim Robbins\n",
              "1               The Godfather     1972  Francis Ford Coppola   Marlon Brando\n",
              "2             The Dark Knight     2008     Christopher Nolan  Christian Bale\n",
              "3       The Godfather Part II     1974  Francis Ford Coppola       Al Pacino\n",
              "4                12 Angry Men     1957          Sidney Lumet     Henry Fonda\n",
              "..                        ...      ...                   ...             ...\n",
              "245               Dersu Uzala     1975        Akira Kurosawa   Maksim Munzuk\n",
              "246                  The Help     2011           Tate Taylor     Viola Davis\n",
              "247                   Aladdin     1992          Ron Clements   Scott Weinger\n",
              "248                    Gandhi     1982  Richard Attenborough    Ben Kingsley\n",
              "249            The Iron Giant     1999             Brad Bird  Eli Marienthal\n",
              "\n",
              "[250 rows x 4 columns]"
            ],
            "text/html": [
              "\n",
              "  <div id=\"df-c5c203f6-101a-4235-80f5-8b44d60dc7c9\">\n",
              "    <div class=\"colab-df-container\">\n",
              "      <div>\n",
              "<style scoped>\n",
              "    .dataframe tbody tr th:only-of-type {\n",
              "        vertical-align: middle;\n",
              "    }\n",
              "\n",
              "    .dataframe tbody tr th {\n",
              "        vertical-align: top;\n",
              "    }\n",
              "\n",
              "    .dataframe thead th {\n",
              "        text-align: right;\n",
              "    }\n",
              "</style>\n",
              "<table border=\"1\" class=\"dataframe\">\n",
              "  <thead>\n",
              "    <tr style=\"text-align: right;\">\n",
              "      <th></th>\n",
              "      <th>Title</th>\n",
              "      <th>Release</th>\n",
              "      <th>Director</th>\n",
              "      <th>Star</th>\n",
              "    </tr>\n",
              "  </thead>\n",
              "  <tbody>\n",
              "    <tr>\n",
              "      <th>0</th>\n",
              "      <td>The Shawshank Redemption</td>\n",
              "      <td>1994</td>\n",
              "      <td>Frank Darabont</td>\n",
              "      <td>Tim Robbins</td>\n",
              "    </tr>\n",
              "    <tr>\n",
              "      <th>1</th>\n",
              "      <td>The Godfather</td>\n",
              "      <td>1972</td>\n",
              "      <td>Francis Ford Coppola</td>\n",
              "      <td>Marlon Brando</td>\n",
              "    </tr>\n",
              "    <tr>\n",
              "      <th>2</th>\n",
              "      <td>The Dark Knight</td>\n",
              "      <td>2008</td>\n",
              "      <td>Christopher Nolan</td>\n",
              "      <td>Christian Bale</td>\n",
              "    </tr>\n",
              "    <tr>\n",
              "      <th>3</th>\n",
              "      <td>The Godfather Part II</td>\n",
              "      <td>1974</td>\n",
              "      <td>Francis Ford Coppola</td>\n",
              "      <td>Al Pacino</td>\n",
              "    </tr>\n",
              "    <tr>\n",
              "      <th>4</th>\n",
              "      <td>12 Angry Men</td>\n",
              "      <td>1957</td>\n",
              "      <td>Sidney Lumet</td>\n",
              "      <td>Henry Fonda</td>\n",
              "    </tr>\n",
              "    <tr>\n",
              "      <th>...</th>\n",
              "      <td>...</td>\n",
              "      <td>...</td>\n",
              "      <td>...</td>\n",
              "      <td>...</td>\n",
              "    </tr>\n",
              "    <tr>\n",
              "      <th>245</th>\n",
              "      <td>Dersu Uzala</td>\n",
              "      <td>1975</td>\n",
              "      <td>Akira Kurosawa</td>\n",
              "      <td>Maksim Munzuk</td>\n",
              "    </tr>\n",
              "    <tr>\n",
              "      <th>246</th>\n",
              "      <td>The Help</td>\n",
              "      <td>2011</td>\n",
              "      <td>Tate Taylor</td>\n",
              "      <td>Viola Davis</td>\n",
              "    </tr>\n",
              "    <tr>\n",
              "      <th>247</th>\n",
              "      <td>Aladdin</td>\n",
              "      <td>1992</td>\n",
              "      <td>Ron Clements</td>\n",
              "      <td>Scott Weinger</td>\n",
              "    </tr>\n",
              "    <tr>\n",
              "      <th>248</th>\n",
              "      <td>Gandhi</td>\n",
              "      <td>1982</td>\n",
              "      <td>Richard Attenborough</td>\n",
              "      <td>Ben Kingsley</td>\n",
              "    </tr>\n",
              "    <tr>\n",
              "      <th>249</th>\n",
              "      <td>The Iron Giant</td>\n",
              "      <td>1999</td>\n",
              "      <td>Brad Bird</td>\n",
              "      <td>Eli Marienthal</td>\n",
              "    </tr>\n",
              "  </tbody>\n",
              "</table>\n",
              "<p>250 rows × 4 columns</p>\n",
              "</div>\n",
              "      <button class=\"colab-df-convert\" onclick=\"convertToInteractive('df-c5c203f6-101a-4235-80f5-8b44d60dc7c9')\"\n",
              "              title=\"Convert this dataframe to an interactive table.\"\n",
              "              style=\"display:none;\">\n",
              "        \n",
              "  <svg xmlns=\"http://www.w3.org/2000/svg\" height=\"24px\"viewBox=\"0 0 24 24\"\n",
              "       width=\"24px\">\n",
              "    <path d=\"M0 0h24v24H0V0z\" fill=\"none\"/>\n",
              "    <path d=\"M18.56 5.44l.94 2.06.94-2.06 2.06-.94-2.06-.94-.94-2.06-.94 2.06-2.06.94zm-11 1L8.5 8.5l.94-2.06 2.06-.94-2.06-.94L8.5 2.5l-.94 2.06-2.06.94zm10 10l.94 2.06.94-2.06 2.06-.94-2.06-.94-.94-2.06-.94 2.06-2.06.94z\"/><path d=\"M17.41 7.96l-1.37-1.37c-.4-.4-.92-.59-1.43-.59-.52 0-1.04.2-1.43.59L10.3 9.45l-7.72 7.72c-.78.78-.78 2.05 0 2.83L4 21.41c.39.39.9.59 1.41.59.51 0 1.02-.2 1.41-.59l7.78-7.78 2.81-2.81c.8-.78.8-2.07 0-2.86zM5.41 20L4 18.59l7.72-7.72 1.47 1.35L5.41 20z\"/>\n",
              "  </svg>\n",
              "      </button>\n",
              "      \n",
              "  <style>\n",
              "    .colab-df-container {\n",
              "      display:flex;\n",
              "      flex-wrap:wrap;\n",
              "      gap: 12px;\n",
              "    }\n",
              "\n",
              "    .colab-df-convert {\n",
              "      background-color: #E8F0FE;\n",
              "      border: none;\n",
              "      border-radius: 50%;\n",
              "      cursor: pointer;\n",
              "      display: none;\n",
              "      fill: #1967D2;\n",
              "      height: 32px;\n",
              "      padding: 0 0 0 0;\n",
              "      width: 32px;\n",
              "    }\n",
              "\n",
              "    .colab-df-convert:hover {\n",
              "      background-color: #E2EBFA;\n",
              "      box-shadow: 0px 1px 2px rgba(60, 64, 67, 0.3), 0px 1px 3px 1px rgba(60, 64, 67, 0.15);\n",
              "      fill: #174EA6;\n",
              "    }\n",
              "\n",
              "    [theme=dark] .colab-df-convert {\n",
              "      background-color: #3B4455;\n",
              "      fill: #D2E3FC;\n",
              "    }\n",
              "\n",
              "    [theme=dark] .colab-df-convert:hover {\n",
              "      background-color: #434B5C;\n",
              "      box-shadow: 0px 1px 3px 1px rgba(0, 0, 0, 0.15);\n",
              "      filter: drop-shadow(0px 1px 2px rgba(0, 0, 0, 0.3));\n",
              "      fill: #FFFFFF;\n",
              "    }\n",
              "  </style>\n",
              "\n",
              "      <script>\n",
              "        const buttonEl =\n",
              "          document.querySelector('#df-c5c203f6-101a-4235-80f5-8b44d60dc7c9 button.colab-df-convert');\n",
              "        buttonEl.style.display =\n",
              "          google.colab.kernel.accessAllowed ? 'block' : 'none';\n",
              "\n",
              "        async function convertToInteractive(key) {\n",
              "          const element = document.querySelector('#df-c5c203f6-101a-4235-80f5-8b44d60dc7c9');\n",
              "          const dataTable =\n",
              "            await google.colab.kernel.invokeFunction('convertToInteractive',\n",
              "                                                     [key], {});\n",
              "          if (!dataTable) return;\n",
              "\n",
              "          const docLinkHtml = 'Like what you see? Visit the ' +\n",
              "            '<a target=\"_blank\" href=https://colab.research.google.com/notebooks/data_table.ipynb>data table notebook</a>'\n",
              "            + ' to learn more about interactive tables.';\n",
              "          element.innerHTML = '';\n",
              "          dataTable['output_type'] = 'display_data';\n",
              "          await google.colab.output.renderOutput(dataTable, element);\n",
              "          const docLink = document.createElement('div');\n",
              "          docLink.innerHTML = docLinkHtml;\n",
              "          element.appendChild(docLink);\n",
              "        }\n",
              "      </script>\n",
              "    </div>\n",
              "  </div>\n",
              "  "
            ]
          },
          "metadata": {},
          "execution_count": 174
        }
      ],
      "source": [
        "table_data = soup.find_all('td')\n",
        "title = [t.find('img')['alt'] for t in table_data if t.find('img')]\n",
        "people = [t.a.get('title').replace(' (dir.)', '').split(', ') for t in table_data if (t.a and t.a.get('title'))]\n",
        "\n",
        "directors = [x[0] for x in people]\n",
        "Star = [x[1] for x in people]\n",
        "year = [int(t.text[1:-1]) for t in soup.find_all('span', {'class':'secondaryInfo'})]\n",
        "\n",
        "\n",
        "imdb = pd.DataFrame(list(zip(title, year, directors, Star)), columns= ['Title', 'Release', 'Director', 'Star'])\n",
        "\n",
        "imdb"
      ]
    },
    {
      "cell_type": "markdown",
      "metadata": {
        "id": "76KGTCarXqIo"
      },
      "source": [
        "#### Movie name, year and a brief summary of the top 10 random movies (IMDB) as a pandas dataframe."
      ]
    },
    {
      "cell_type": "code",
      "execution_count": null,
      "metadata": {
        "id": "m0ANHUGnXqIo"
      },
      "outputs": [],
      "source": [
        "#This is the url you will scrape in this exercise\n",
        "url = 'http://www.imdb.com/chart/top'"
      ]
    },
    {
      "cell_type": "code",
      "execution_count": null,
      "metadata": {
        "id": "zpOxB4wCXqIo"
      },
      "outputs": [],
      "source": [
        "#your code"
      ]
    },
    {
      "cell_type": "markdown",
      "metadata": {
        "id": "OzeJIV9sXqIo"
      },
      "source": [
        "#### Find the live weather report (temperature, wind speed, description and weather) of a given city."
      ]
    },
    {
      "cell_type": "code",
      "execution_count": null,
      "metadata": {
        "id": "t82r--10XqIo"
      },
      "outputs": [],
      "source": [
        "#https://openweathermap.org/current\n",
        "city = city=input('Enter the city:')\n",
        "url = 'http://api.openweathermap.org/data/2.5/weather?'+'q='+city+'&APPID=b35975e18dc93725acb092f7272cc6b8&units=metric'"
      ]
    },
    {
      "cell_type": "code",
      "execution_count": null,
      "metadata": {
        "id": "ZD3-WKhFXqIo"
      },
      "outputs": [],
      "source": [
        "# your code"
      ]
    },
    {
      "cell_type": "markdown",
      "metadata": {
        "id": "NMcCa6vIXqIo"
      },
      "source": [
        "#### Book name,price and stock availability as a pandas dataframe."
      ]
    },
    {
      "cell_type": "code",
      "execution_count": null,
      "metadata": {
        "id": "JfPBGNR4XqIp"
      },
      "outputs": [],
      "source": [
        "# This is the url you will scrape in this exercise. \n",
        "# It is a fictional bookstore created to be scraped. \n",
        "url = 'http://books.toscrape.com/'"
      ]
    },
    {
      "cell_type": "code",
      "execution_count": null,
      "metadata": {
        "id": "hTAY_X5sXqIp"
      },
      "outputs": [],
      "source": [
        "#your code"
      ]
    }
  ],
  "metadata": {
    "colab": {
      "provenance": [],
      "collapsed_sections": [
        "G_8hzNaDXqIn",
        "OzeJIV9sXqIo",
        "NMcCa6vIXqIo"
      ]
    },
    "kernelspec": {
      "display_name": "Python 3",
      "language": "python",
      "name": "python3"
    },
    "language_info": {
      "codemirror_mode": {
        "name": "ipython",
        "version": 3
      },
      "file_extension": ".py",
      "mimetype": "text/x-python",
      "name": "python",
      "nbconvert_exporter": "python",
      "pygments_lexer": "ipython3",
      "version": "3.7.2"
    }
  },
  "nbformat": 4,
  "nbformat_minor": 0
}